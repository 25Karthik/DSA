{
 "cells": [
  {
   "cell_type": "markdown",
   "metadata": {},
   "source": [
    "### Q1. Write a program to find all pairs of an integer array whose sum is equal to a given number?"
   ]
  },
  {
   "cell_type": "code",
   "execution_count": 16,
   "metadata": {},
   "outputs": [
    {
     "name": "stdout",
     "output_type": "stream",
     "text": [
      "Enter the list : 4 5 6 3 7 8 2\n",
      "Enter the number: 8\n",
      "5  +  3  =  8\n",
      "6  +  2  =  8\n"
     ]
    }
   ],
   "source": [
    "arr = [int(item) for item in input(\"Enter the list : \").split()]\n",
    "l=len(arr)\n",
    "number = int(input(\"Enter the number: \"))\n",
    "for i in range(0,l):\n",
    "    for j in range(i+1,l):\n",
    "        if ((arr[i]+arr[j]))==number:\n",
    "            print(arr[i],\" + \",arr[j],\" = \",number)\n",
    "    "
   ]
  },
  {
   "cell_type": "markdown",
   "metadata": {},
   "source": [
    "#### Q2. Write a program to reverse an array in place? In place means you cannot create a new array. You have to update the original array."
   ]
  },
  {
   "cell_type": "code",
   "execution_count": 1,
   "metadata": {},
   "outputs": [
    {
     "name": "stdout",
     "output_type": "stream",
     "text": [
      "Enter the list : 1 2 3 4 5 6 7 8\n",
      "[8, 7, 6, 5, 4, 3, 2, 1]\n"
     ]
    }
   ],
   "source": [
    "arr = [int(item) for item in input(\"Enter the list : \").split()]\n",
    "arr.reverse()\n",
    "print(arr)"
   ]
  },
  {
   "cell_type": "markdown",
   "metadata": {},
   "source": [
    "#### Q3. Write a program to check if two strings are a rotation of each other?"
   ]
  },
  {
   "cell_type": "code",
   "execution_count": 4,
   "metadata": {},
   "outputs": [
    {
     "name": "stdout",
     "output_type": "stream",
     "text": [
      "Enter 1st string: hello\n",
      "Enter 2nd string: lohel\n",
      "True\n"
     ]
    }
   ],
   "source": [
    "str1 = input(\"Enter 1st string: \")\n",
    "str2 = input(\"Enter 2nd string: \")\n",
    "if(len(str1) != len(str2)):  \n",
    "    print(False);  \n",
    "else:  \n",
    "    if(str2 in str1*2):\n",
    "        print(True)\n",
    "    else:\n",
    "        print(False)"
   ]
  },
  {
   "cell_type": "markdown",
   "metadata": {},
   "source": [
    "#### Q4. Write a program to print the first non-repeated character from a string?"
   ]
  },
  {
   "cell_type": "code",
   "execution_count": 5,
   "metadata": {},
   "outputs": [
    {
     "name": "stdout",
     "output_type": "stream",
     "text": [
      "Enter a string: welcome\n",
      "First non-repeated character in a string:  w\n"
     ]
    }
   ],
   "source": [
    "inStr = input(\"Enter a string: \")\n",
    "for i in inStr:\n",
    "    c= inStr.count(i)\n",
    "    if c==1:\n",
    "        print(\"First non-repeated character in a string: \",i)\n",
    "        break"
   ]
  },
  {
   "cell_type": "markdown",
   "metadata": {},
   "source": [
    "### Implementing a stack"
   ]
  },
  {
   "cell_type": "code",
   "execution_count": 6,
   "metadata": {},
   "outputs": [],
   "source": [
    "class Node:\n",
    "    def __init__(self, data):\n",
    "        self.data = data\n",
    "        self.next = None\n",
    "\n",
    "\n",
    "class Stack:\n",
    "    def __init__(self):\n",
    "        self.top = None\n",
    "\n",
    "    def is_empty(self):\n",
    "        return self.top is None\n",
    "\n",
    "    def push(self, data):\n",
    "        new_node = Node(data)\n",
    "        new_node.next = self.top\n",
    "        self.top = new_node\n",
    "\n",
    "    def pop(self):\n",
    "        if self.is_empty():\n",
    "            print(\"[ERROR] : Stack is empty\")\n",
    "            return\n",
    "        temp_node = self.top\n",
    "        self.top = self.top.next\n",
    "        temp_node.next = None\n",
    "        return temp_node.data\n",
    "\n",
    "    def peek(self):\n",
    "        if self.is_empty():\n",
    "            return \"\"\n",
    "        return self.top.data\n",
    "\n",
    "    def delete_stack(self):\n",
    "        self.top = None\n",
    "\n",
    "    def display(self):\n",
    "        current_node = self.top\n",
    "        while current_node is not None:\n",
    "            print(\" | {} |\".format(current_node.data))\n",
    "            print(\" ~~~~~~\")\n",
    "            current_node = current_node.next\n"
   ]
  },
  {
   "cell_type": "markdown",
   "metadata": {},
   "source": [
    "#### Q5. Write a program to evaluate postfix expression using stack."
   ]
  },
  {
   "cell_type": "code",
   "execution_count": 7,
   "metadata": {},
   "outputs": [
    {
     "name": "stdout",
     "output_type": "stream",
     "text": [
      "Enter the expression:456+*8-\n",
      "Answer: 36\n"
     ]
    }
   ],
   "source": [
    "def evalPostfix(text):\n",
    "    s = Stack()\n",
    "    for symbol in text:\n",
    "        try:\n",
    "            result = int(symbol)\n",
    "        except ValueError:\n",
    "            if symbol not in '+-*/':\n",
    "                raise ValueError('text must contain only numbers and operators')\n",
    "            topFirst = s.pop()\n",
    "            topSecond = s.pop()\n",
    "            result = eval('%d %s %d' % (topSecond, symbol, topFirst))\n",
    "        s.push(result)\n",
    "    return s.pop() \n",
    "text = input(\"Enter the expression:\")\n",
    "print(\"Answer:\",evalPostfix(text))\n"
   ]
  },
  {
   "cell_type": "markdown",
   "metadata": {},
   "source": [
    "#### Q6. Read about infix, prefix, and postfix expressions. Write a program to convert infix to postfix expression."
   ]
  },
  {
   "cell_type": "code",
   "execution_count": 8,
   "metadata": {},
   "outputs": [
    {
     "name": "stdout",
     "output_type": "stream",
     "text": [
      "Enter the Infix expression: a+b/c*e-d\n",
      "Enter the Postfix expression:  a b c * e / + d -\n"
     ]
    }
   ],
   "source": [
    "def infixToPostfix(l):\n",
    "    stack=[]\n",
    "    ps=\"\"\n",
    "    p={\"+\":3,\"-\":3,\"x\":2,\"/\":2,\"^\":1}\n",
    "    for i in l:\n",
    "        if i in p:\n",
    "            while len(stack)!=0 and stack[-1]!=\"(\" and p[stack[-1]]<=p[i]:\n",
    "                ps+=stack[-1]+\" \"\n",
    "                stack.pop(-1)\n",
    "            stack.append(i)\n",
    "        elif i==\"(\":\n",
    "            stack.append(\"(\")\n",
    "        elif i==\")\":\n",
    "            while len(stack)!=0 and stack[-1]!=\"(\":\n",
    "                ps+=stack[-1]+\" \"\n",
    "                stack.pop(-1)\n",
    "            if len(stack)!=0:\n",
    "                stack.pop(-1)\n",
    "        else:\n",
    "            ps+=i+\" \"\n",
    "    while len(stack)!=0:\n",
    "        ps+=stack.pop(-1)\n",
    "    return ps\n",
    "\n",
    "exp = input(\"Enter the Infix expression: \")\n",
    "postfix = infixToPostfix(exp)\n",
    "print(\"Enter the Postfix expression: \",postfix)"
   ]
  },
  {
   "cell_type": "markdown",
   "metadata": {},
   "source": [
    "#### Q7. Write a program to convert prefix expression to infix expression."
   ]
  },
  {
   "cell_type": "code",
   "execution_count": 9,
   "metadata": {},
   "outputs": [
    {
     "name": "stdout",
     "output_type": "stream",
     "text": [
      "Enter the Prefix Expression: -+M*NO-/PQR\n",
      "Enter the Infix Expression:  ((M+(N*O))-((P/Q)-R))\n"
     ]
    }
   ],
   "source": [
    "def prefixToInfix(prefix):\n",
    "    stack = Stack()\n",
    "    # read prefix in reverse order\n",
    "    i = len(prefix) - 1\n",
    "    while i >= 0:\n",
    "        if not isOperator(prefix[i]):\n",
    "            # symbol is operand\n",
    "            stack.push(prefix[i])\n",
    "            i -= 1\n",
    "        else:\n",
    "            str = \"(\" + stack.pop() + prefix[i] + stack.pop() + \")\"\n",
    "            stack.push(str)\n",
    "            i -= 1\n",
    "     \n",
    "    return stack.pop()\n",
    " \n",
    "def isOperator(c):\n",
    "    if c == \"*\" or c == \"+\" or c == \"-\" or c == \"/\" or c == \"^\" or c == \"(\" or c == \")\":\n",
    "        return True\n",
    "    else:\n",
    "        return False\n",
    "exp = input(\"Enter the Prefix Expression: \")\n",
    "print(\"Enter the Infix Expression: \",prefixToInfix(exp))"
   ]
  },
  {
   "cell_type": "markdown",
   "metadata": {},
   "source": [
    "#### Q8. Write a program to check if all the brackets are closed in a given code snippet."
   ]
  },
  {
   "cell_type": "code",
   "execution_count": 10,
   "metadata": {},
   "outputs": [
    {
     "name": "stdout",
     "output_type": "stream",
     "text": [
      "Enter the expression: {}()[]\n",
      "All brackets are closed.\n"
     ]
    }
   ],
   "source": [
    "def bracketCheck(str):\n",
    "    stack = Stack()\n",
    "    for c in str:\n",
    "        if c in [\"{\",\"(\",\"[\"]:\n",
    "            stack.push(c)\n",
    "        else:\n",
    "            if not stack:\n",
    "                return False\n",
    "            cur_char= stack.pop()\n",
    "            if cur_char == \"{\" and c != \"}\":\n",
    "                return False\n",
    "            if cur_char == \"[\" and c != \"]\":\n",
    "                return False\n",
    "            if cur_char == \"(\" and c != \")\":\n",
    "                return False\n",
    "    return True\n",
    "\n",
    "exp = input(\"Enter the expression: \")\n",
    "if bracketCheck(exp):\n",
    "    print(\"All brackets are closed.\")\n",
    "else:\n",
    "    print(\"All brackets are not closed.\")"
   ]
  },
  {
   "cell_type": "markdown",
   "metadata": {},
   "source": [
    "#### Q9. Write a program to reverse a stack.\n"
   ]
  },
  {
   "cell_type": "code",
   "execution_count": 11,
   "metadata": {},
   "outputs": [
    {
     "name": "stdout",
     "output_type": "stream",
     "text": [
      "Enter the no of element in stack: 5\n",
      "Enter a value: 10\n",
      "Enter a value: 20\n",
      "Enter a value: 30\n",
      "Enter a value: 40\n",
      "Enter a value: 50\n",
      "Entered stack: \n",
      " | 50 |\n",
      " ~~~~~~\n",
      " | 40 |\n",
      " ~~~~~~\n",
      " | 30 |\n",
      " ~~~~~~\n",
      " | 20 |\n",
      " ~~~~~~\n",
      " | 10 |\n",
      " ~~~~~~\n",
      "Reverse stack: \n",
      " | 10 |\n",
      " ~~~~~~\n",
      " | 20 |\n",
      " ~~~~~~\n",
      " | 30 |\n",
      " ~~~~~~\n",
      " | 40 |\n",
      " ~~~~~~\n",
      " | 50 |\n",
      " ~~~~~~\n"
     ]
    }
   ],
   "source": [
    "stack1 = Stack()\n",
    "stack2 = Stack()\n",
    "no = int(input(\"Enter the no of element in stack: \"))\n",
    "for _ in range(no):\n",
    "    stack1.push(input(\"Enter a value: \"))\n",
    "print(\"Entered stack: \")\n",
    "stack1.display()\n",
    "for _ in range(no):\n",
    "    x= stack1.pop()\n",
    "    stack2.push(x)\n",
    "print(\"Reverse stack: \")\n",
    "stack2.display()"
   ]
  },
  {
   "cell_type": "markdown",
   "metadata": {},
   "source": [
    "#### Q10. Write a program to find the smallest number using a stack."
   ]
  },
  {
   "cell_type": "code",
   "execution_count": 12,
   "metadata": {},
   "outputs": [
    {
     "name": "stdout",
     "output_type": "stream",
     "text": [
      "Enter the no of element in stack: 5\n",
      "Enter a value: 50\n",
      "Enter a value: 60\n",
      "Enter a value: 70\n",
      "Enter a value: 20\n",
      "Enter a value: 30\n",
      " | 30 |\n",
      " ~~~~~~\n",
      " | 20 |\n",
      " ~~~~~~\n",
      " | 70 |\n",
      " ~~~~~~\n",
      " | 60 |\n",
      " ~~~~~~\n",
      " | 50 |\n",
      " ~~~~~~\n",
      "Smallest no :  20\n"
     ]
    }
   ],
   "source": [
    "stack = Stack()\n",
    "no = int(input(\"Enter the no of element in stack: \"))\n",
    "for _ in range(no):\n",
    "    stack.push(int(input(\"Enter a value: \")))\n",
    "stack.display()\n",
    "min_no = float(\"inf\")\n",
    "while True:\n",
    "    if stack.is_empty():\n",
    "        break\n",
    "    else:\n",
    "        x = stack.pop()\n",
    "        if x<min_no:\n",
    "            min_no=x\n",
    "print(\"Smallest no : \",min_no)"
   ]
  },
  {
   "cell_type": "code",
   "execution_count": null,
   "metadata": {},
   "outputs": [],
   "source": []
  }
 ],
 "metadata": {
  "kernelspec": {
   "display_name": "Python 3",
   "language": "python",
   "name": "python3"
  },
  "language_info": {
   "codemirror_mode": {
    "name": "ipython",
    "version": 3
   },
   "file_extension": ".py",
   "mimetype": "text/x-python",
   "name": "python",
   "nbconvert_exporter": "python",
   "pygments_lexer": "ipython3",
   "version": "3.8.5"
  }
 },
 "nbformat": 4,
 "nbformat_minor": 4
}
